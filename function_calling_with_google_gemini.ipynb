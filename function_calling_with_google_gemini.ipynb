{
  "nbformat": 4,
  "nbformat_minor": 0,
  "metadata": {
    "colab": {
      "provenance": []
    },
    "kernelspec": {
      "name": "python3",
      "display_name": "Python 3"
    },
    "language_info": {
      "name": "python"
    }
  },
  "cells": [
    {
      "cell_type": "markdown",
      "source": [
        "# Function calling with Google Gemini chat AI\n",
        "\n",
        "## Function calling enables developers to incorporte custom functions or APIs with a generative AI chat application\n",
        "\n",
        "### The AI model decides if any of the functions and APIs is useful for answering the user query, and the AI model responds with the functions and their arguments to be used\n",
        "\n",
        "### The functions need to be well described with the arguments, their argument data types and the returning values\n",
        "\n",
        "### In this tutorial we will explore parallel function calling with Python, using Google Gemini AI, with external APIs providing city's population and country's currency used, for answering user questions"
      ],
      "metadata": {
        "id": "cVJFTrDa5uNC"
      }
    },
    {
      "cell_type": "code",
      "source": [
        "import requests\n",
        "import json\n",
        "import google.generativeai as genai"
      ],
      "metadata": {
        "id": "PANhc5ZoPvHe"
      },
      "execution_count": 2,
      "outputs": []
    },
    {
      "cell_type": "markdown",
      "source": [
        "## Add your API key and select the model"
      ],
      "metadata": {
        "id": "W8uohfWMJpK6"
      }
    },
    {
      "cell_type": "code",
      "source": [
        "genai.configure(api_key=\"YOUR API KEY\")\n",
        "model = genai.GenerativeModel(\"gemini-1.5-flash\")\n",
        "response = model.generate_content(\"What is the date today?\")\n",
        "print(response.text)"
      ],
      "metadata": {
        "colab": {
          "base_uri": "https://localhost:8080/",
          "height": 52
        },
        "id": "r7fTOmRG5a44",
        "outputId": "a6138204-e6fa-4855-d70e-8aaf1f5756cb"
      },
      "execution_count": 3,
      "outputs": [
        {
          "output_type": "stream",
          "name": "stdout",
          "text": [
            "Today is October 26, 2023.\n",
            "\n"
          ]
        }
      ]
    },
    {
      "cell_type": "markdown",
      "source": [
        "## Define function to be used in function calling"
      ],
      "metadata": {
        "id": "JYOCDb1QKVmB"
      }
    },
    {
      "cell_type": "code",
      "source": [
        "## Ensure to specify the datatype of arguments used in the function,\n",
        "## otherwise it will give error in function calling\n",
        "\n",
        "def set_light_values(brightness: int, color_temp: str):\n",
        "    \"\"\"Set the brightness and color temperature of a room light. (mock API).\n",
        "\n",
        "    Args:\n",
        "        brightness: Light level from 0 to 100. Zero is off and 100 is full brightness\n",
        "        color_temp: Color temperature of the light fixture, which can be `daylight`, `cool` or `warm`.\n",
        "\n",
        "    Returns:\n",
        "        A dictionary containing the set brightness and color temperature.\n",
        "    \"\"\"\n",
        "    return {\n",
        "        \"brightness\": brightness,\n",
        "        \"colorTemperature\": color_temp\n",
        "    }\n"
      ],
      "metadata": {
        "id": "axVsJR4dURr9"
      },
      "execution_count": 30,
      "outputs": []
    },
    {
      "cell_type": "code",
      "source": [
        "set_light_values(brightness=30,color_temp=\"daylight\")"
      ],
      "metadata": {
        "colab": {
          "base_uri": "https://localhost:8080/"
        },
        "id": "KVI6nB1_7sAn",
        "outputId": "267e4996-f8a0-43bc-8cf6-24254a76db45"
      },
      "execution_count": 31,
      "outputs": [
        {
          "output_type": "execute_result",
          "data": {
            "text/plain": [
              "{'brightness': 30, 'colorTemperature': 'daylight'}"
            ]
          },
          "metadata": {},
          "execution_count": 31
        }
      ]
    },
    {
      "cell_type": "markdown",
      "source": [
        "## Select the model and specify the tool to be used in function calling"
      ],
      "metadata": {
        "id": "VOTbnkumKj7X"
      }
    },
    {
      "cell_type": "code",
      "source": [
        "model = genai.GenerativeModel(model_name='gemini-1.5-flash',\n",
        "                              tools=[set_light_values])\n"
      ],
      "metadata": {
        "id": "2GJWNL2BURnI"
      },
      "execution_count": 32,
      "outputs": []
    },
    {
      "cell_type": "markdown",
      "source": [
        "## The response generated from the input will contain the suggested functions and arguments the chat model suggests"
      ],
      "metadata": {
        "id": "pReCDwVsK38t"
      }
    },
    {
      "cell_type": "code",
      "source": [
        "chat = model.start_chat()\n",
        "response = chat.send_message('Dim the lights so the room feels cozy and warm.')\n"
      ],
      "metadata": {
        "id": "pOm5fw2EURiZ",
        "collapsed": true
      },
      "execution_count": 33,
      "outputs": []
    },
    {
      "cell_type": "code",
      "source": [
        "response"
      ],
      "metadata": {
        "colab": {
          "base_uri": "https://localhost:8080/"
        },
        "id": "Mm4LKqkxQqBY",
        "outputId": "40bdaf93-c4a6-4544-ac0a-fecd8bd15174"
      },
      "execution_count": 34,
      "outputs": [
        {
          "output_type": "execute_result",
          "data": {
            "text/plain": [
              "response:\n",
              "GenerateContentResponse(\n",
              "    done=True,\n",
              "    iterator=None,\n",
              "    result=protos.GenerateContentResponse({\n",
              "      \"candidates\": [\n",
              "        {\n",
              "          \"content\": {\n",
              "            \"parts\": [\n",
              "              {\n",
              "                \"function_call\": {\n",
              "                  \"name\": \"set_light_values\",\n",
              "                  \"args\": {\n",
              "                    \"brightness\": 30.0,\n",
              "                    \"color_temp\": \"warm\"\n",
              "                  }\n",
              "                }\n",
              "              }\n",
              "            ],\n",
              "            \"role\": \"model\"\n",
              "          },\n",
              "          \"finish_reason\": \"STOP\",\n",
              "          \"avg_logprobs\": -0.0008751733228564262\n",
              "        }\n",
              "      ],\n",
              "      \"usage_metadata\": {\n",
              "        \"prompt_token_count\": 150,\n",
              "        \"candidates_token_count\": 10,\n",
              "        \"total_token_count\": 160\n",
              "      }\n",
              "    }),\n",
              ")"
            ]
          },
          "metadata": {},
          "execution_count": 34
        }
      ]
    },
    {
      "cell_type": "markdown",
      "source": [
        "## Evaluate the functions with the arguments the chat model suggests and store the functions with their corresponding values returned, as a JSON object"
      ],
      "metadata": {
        "id": "svKaghMILTzU"
      }
    },
    {
      "cell_type": "code",
      "source": [
        "def function_used_and_their_outputs(functions,response):\n",
        "  for part in response.parts:\n",
        "      ## in every iteration, fn is assigned a function used by AI during the function call\n",
        "      if fn := part.function_call:\n",
        "          ## args gets assigned a string value like \"brightness=30.0, color_temp='warm'\",\n",
        "          ## repr() is used to add quotes to the keys like 'warm',\n",
        "          ## repr() is used so string value keys are treated as string, not variable\n",
        "          args = \", \".join(f\"{key}={repr(val)}\" for key, val in fn.args.items())\n",
        "          print(\"arguments are: \", args)\n",
        "          ## Function is being generated using f strings\n",
        "          function_to_be_called = f\"{fn.name}({args})\"\n",
        "          print(\"function being called using eval, with arguments: \", function_to_be_called)\n",
        "          output=eval(function_to_be_called)\n",
        "          functions[fn.name]=output"
      ],
      "metadata": {
        "id": "dxltFG5NURdI"
      },
      "execution_count": 35,
      "outputs": []
    },
    {
      "cell_type": "code",
      "source": [
        "house_functions={}\n",
        "function_used_and_their_outputs(house_functions,response)\n",
        "house_functions"
      ],
      "metadata": {
        "colab": {
          "base_uri": "https://localhost:8080/"
        },
        "id": "AGvf7Pvym0Ho",
        "outputId": "2f025c17-4897-47c8-dc0c-e891e612bd0b"
      },
      "execution_count": 36,
      "outputs": [
        {
          "output_type": "stream",
          "name": "stdout",
          "text": [
            "arguments are:  brightness=30.0, color_temp='warm'\n",
            "function being called using eval, with arguments:  set_light_values(brightness=30.0, color_temp='warm')\n"
          ]
        },
        {
          "output_type": "execute_result",
          "data": {
            "text/plain": [
              "{'set_light_values': {'brightness': 30.0, 'colorTemperature': 'warm'}}"
            ]
          },
          "metadata": {},
          "execution_count": 36
        }
      ]
    },
    {
      "cell_type": "markdown",
      "source": [
        "## Provide the JSON object back to the generative chat function to get AI generated response processing the outputs of the functions"
      ],
      "metadata": {
        "id": "D3qOHTcnMCMd"
      }
    },
    {
      "cell_type": "code",
      "source": [
        "def response_based_on_used_functions(functions):\n",
        "  response_parts = [\n",
        "      genai.protos.Part(function_response=genai.protos.FunctionResponse(name=fn, response={\"result\": val}))\n",
        "      for fn, val in functions.items()\n",
        "  ]\n",
        "\n",
        "  response = chat.send_message(response_parts)\n",
        "  print(response.text)\n",
        "\n",
        "response_based_on_used_functions(house_functions)"
      ],
      "metadata": {
        "id": "xIIDbGgbff3s",
        "outputId": "27af95fb-4d24-456a-f8fb-8e1436aec00a",
        "colab": {
          "base_uri": "https://localhost:8080/",
          "height": 52
        }
      },
      "execution_count": 38,
      "outputs": [
        {
          "output_type": "stream",
          "name": "stdout",
          "text": [
            "OK. I've dimmed the lights to 30% brightness and set the color temperature to warm.  Is there anything else?\n",
            "\n"
          ]
        }
      ]
    },
    {
      "cell_type": "markdown",
      "source": [
        "## Defining functions to get population and currency of input city and country respectively"
      ],
      "metadata": {
        "id": "-9HL53h9jn_8"
      }
    },
    {
      "cell_type": "code",
      "source": [
        "def get_population(city: str):\n",
        "  \"\"\"Gets population of a city and year of count.\n",
        "\n",
        "  Args:\n",
        "    city: The name of the city.\n",
        "\n",
        "  Returns:\n",
        "    JSON object encapsulating the population of the city and year of count if function executed successfully, else, an error message.\n",
        "  \"\"\"\n",
        "  url = \"https://countriesnow.space/api/v0.1/countries/population/cities\"\n",
        "\n",
        "  payload = {\"city\": city}\n",
        "  headers = {}\n",
        "\n",
        "  response = requests.request(\"POST\", url, headers=headers, data=payload)\n",
        "  json_data=json.loads(response.text)\n",
        "\n",
        "  if json_data['error']:\n",
        "    return json_data['msg']\n",
        "  else:\n",
        "    return {'population':json_data['data']['populationCounts'][0]['value'],'year of counting':json_data['data']['populationCounts'][0]['year']}"
      ],
      "metadata": {
        "id": "O7wqoiSeU6HB"
      },
      "execution_count": 17,
      "outputs": []
    },
    {
      "cell_type": "code",
      "source": [
        "get_population('amsterdam')"
      ],
      "metadata": {
        "colab": {
          "base_uri": "https://localhost:8080/"
        },
        "id": "Qx-TVbKcUfEP",
        "outputId": "5f76eea6-39b5-4217-f06a-ee59231cd71d"
      },
      "execution_count": 12,
      "outputs": [
        {
          "output_type": "execute_result",
          "data": {
            "text/plain": [
              "{'population': '779808', 'year of counting': '2011'}"
            ]
          },
          "metadata": {},
          "execution_count": 12
        }
      ]
    },
    {
      "cell_type": "code",
      "source": [
        "def get_currency(country_code: str):\n",
        "  \"\"\"Gets information about the currency used in the country\n",
        "\n",
        "  Args:\n",
        "      country_code (str): The alphabetical country code of the country, eg.: if referring to Nigeria, then argument passed will be its alphabetical country code NG\n",
        "\n",
        "  Returns:\n",
        "    JSON object encapsulating the currency used in the country if function executed successfully, else, an error message is returned.\n",
        "  \"\"\"\n",
        "  url = \"https://countriesnow.space/api/v0.1/countries/currency\"\n",
        "\n",
        "  payload = {\"iso2\":country_code}\n",
        "  headers = {}\n",
        "\n",
        "  response = requests.request(\"POST\", url, headers=headers, data=payload)\n",
        "\n",
        "  json_data=json.loads(response.text)\n",
        "\n",
        "  if json_data['error']:\n",
        "    return json_data['msg']\n",
        "  else:\n",
        "    return json_data['data']['currency']"
      ],
      "metadata": {
        "id": "vLzY265vTFt8"
      },
      "execution_count": 18,
      "outputs": []
    },
    {
      "cell_type": "code",
      "source": [
        "get_currency('pk')"
      ],
      "metadata": {
        "colab": {
          "base_uri": "https://localhost:8080/",
          "height": 35
        },
        "id": "UmzdxoJsZs2k",
        "outputId": "8f715a86-9051-43d4-e3f5-3b5b2e84e90a"
      },
      "execution_count": 14,
      "outputs": [
        {
          "output_type": "execute_result",
          "data": {
            "text/plain": [
              "'PKR'"
            ],
            "application/vnd.google.colaboratory.intrinsic+json": {
              "type": "string"
            }
          },
          "metadata": {},
          "execution_count": 14
        }
      ]
    },
    {
      "cell_type": "code",
      "source": [
        "demography_functions=[get_population, get_currency]\n",
        "model = genai.GenerativeModel(model_name=\"gemini-1.5-flash\", tools=demography_functions)\n"
      ],
      "metadata": {
        "id": "RnCmApe-42Rd"
      },
      "execution_count": 40,
      "outputs": []
    },
    {
      "cell_type": "code",
      "source": [
        "chat = model.start_chat()"
      ],
      "metadata": {
        "id": "Pjx-iDsBkp_4"
      },
      "execution_count": 41,
      "outputs": []
    },
    {
      "cell_type": "markdown",
      "source": [
        "## In the following example, notice that both, the population and currency functions are being called by the AI chat when population and currency are being asked by user, also notice that the AI is using its own knowledge to identify the country in which the city asked by the user is located, to send the corresponding country code as the argument to the currency function"
      ],
      "metadata": {
        "id": "ztEAmeihsbBY"
      }
    },
    {
      "cell_type": "code",
      "source": [
        "response = chat.send_message('Tell about the population and currency used in delhi')\n",
        "demography_functions_used={}\n",
        "function_used_and_their_outputs(demography_functions_used,response)\n",
        "demography_functions_used"
      ],
      "metadata": {
        "colab": {
          "base_uri": "https://localhost:8080/"
        },
        "id": "14dtW4-Ek3Fv",
        "outputId": "a03afe59-55f0-4041-9dca-defac751764d"
      },
      "execution_count": 42,
      "outputs": [
        {
          "output_type": "stream",
          "name": "stdout",
          "text": [
            "arguments are:  city='Delhi'\n",
            "function being called using eval, with arguments:  get_population(city='Delhi')\n",
            "arguments are:  country_code='IN'\n",
            "function being called using eval, with arguments:  get_currency(country_code='IN')\n"
          ]
        },
        {
          "output_type": "execute_result",
          "data": {
            "text/plain": [
              "{'get_population': {'population': '9879172', 'year of counting': '2001'},\n",
              " 'get_currency': 'INR'}"
            ]
          },
          "metadata": {},
          "execution_count": 42
        }
      ]
    },
    {
      "cell_type": "code",
      "source": [
        "response_based_on_used_functions(demography_functions_used)"
      ],
      "metadata": {
        "colab": {
          "base_uri": "https://localhost:8080/",
          "height": 72
        },
        "id": "UUcKR0PCpNn4",
        "outputId": "08c78140-f1b5-4625-c254-41d1dc75f3b9"
      },
      "execution_count": 43,
      "outputs": [
        {
          "output_type": "stream",
          "name": "stdout",
          "text": [
            "The population of Delhi was 9,879,172 in 2001. The currency used in India, where Delhi is located, is the Indian Rupee (INR).\n",
            "\n"
          ]
        }
      ]
    },
    {
      "cell_type": "markdown",
      "source": [
        "## In the following 2 examples, notice that only the population function is being called by the AI chat when only population is asked by user"
      ],
      "metadata": {
        "id": "G7_HAs4Cu62b"
      }
    },
    {
      "cell_type": "code",
      "source": [
        "response = chat.send_message('Tell about the population of Tokyo')\n",
        "demography_functions_used={}\n",
        "function_used_and_their_outputs(demography_functions_used,response)\n",
        "response_based_on_used_functions(demography_functions_used)"
      ],
      "metadata": {
        "colab": {
          "base_uri": "https://localhost:8080/",
          "height": 86
        },
        "id": "DkFabuvdrtAI",
        "outputId": "ff0932c7-5f3d-4628-cba9-711678a4c35b"
      },
      "execution_count": 47,
      "outputs": [
        {
          "output_type": "stream",
          "name": "stdout",
          "text": [
            "arguments are:  city='Tokyo'\n",
            "function being called using eval, with arguments:  get_population(city='Tokyo')\n",
            "The population of Tokyo was 8,945,695 in 2010.\n",
            "\n"
          ]
        }
      ]
    },
    {
      "cell_type": "markdown",
      "source": [
        "### Due to some reason, the API isn't able to fetch the population of New York, which the AI chat achnowledges"
      ],
      "metadata": {
        "id": "QMktsk-5vcSS"
      }
    },
    {
      "cell_type": "code",
      "source": [
        "response = chat.send_message('Tell about the population of new york')\n",
        "demography_functions_used={}\n",
        "function_used_and_their_outputs(demography_functions_used,response)\n",
        "response_based_on_used_functions(demography_functions_used)"
      ],
      "metadata": {
        "colab": {
          "base_uri": "https://localhost:8080/",
          "height": 86
        },
        "id": "Tm5VOIG2pN3o",
        "outputId": "17d5efb9-afec-4f80-f33c-f5cca94b3668"
      },
      "execution_count": 44,
      "outputs": [
        {
          "output_type": "stream",
          "name": "stdout",
          "text": [
            "arguments are:  city='New York'\n",
            "function being called using eval, with arguments:  get_population(city='New York')\n",
            "I'm sorry, I couldn't find information about the population of New York.\n",
            "\n"
          ]
        }
      ]
    },
    {
      "cell_type": "markdown",
      "source": [
        "## In the following examples, notice that only the currency function is being called by the AI chat when only currency is asked by user"
      ],
      "metadata": {
        "id": "YnouKKSjv3v-"
      }
    },
    {
      "cell_type": "code",
      "source": [
        "response = chat.send_message('Tell about the currency of london')\n",
        "demography_functions_used={}\n",
        "function_used_and_their_outputs(demography_functions_used,response)\n",
        "response_based_on_used_functions(demography_functions_used)"
      ],
      "metadata": {
        "colab": {
          "base_uri": "https://localhost:8080/",
          "height": 86
        },
        "id": "eHaf1ZNFpOKu",
        "outputId": "0201a5cd-6956-47b8-b582-79eef75018ba"
      },
      "execution_count": 48,
      "outputs": [
        {
          "output_type": "stream",
          "name": "stdout",
          "text": [
            "arguments are:  country_code='GB'\n",
            "function being called using eval, with arguments:  get_currency(country_code='GB')\n",
            "The currency used in London, United Kingdom is the British Pound (GBP).\n",
            "\n"
          ]
        }
      ]
    }
  ]
}